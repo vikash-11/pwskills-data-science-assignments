{
 "cells": [
  {
   "cell_type": "code",
   "execution_count": 1,
   "id": "0194da44-69f9-42dc-8438-09150e370d8a",
   "metadata": {},
   "outputs": [],
   "source": [
    "'''Q1. Create one variable containing following type of data:\n",
    "(i) string\n",
    "(ii) list\n",
    "(iii) float\n",
    "(iv) tuple'''\n",
    "string=\"Assignment 1\"\n",
    "my_list=[233,'Nothing',34.23]\n",
    "my_float=23.34\n",
    "my_tuple=(344,\"Data Science\")"
   ]
  },
  {
   "cell_type": "code",
   "execution_count": 11,
   "id": "d7987a9f-8da6-4135-a5b4-7eb30f6c9a12",
   "metadata": {},
   "outputs": [
    {
     "name": "stdout",
     "output_type": "stream",
     "text": [
      "<class 'str'>\n",
      "<class 'str'>\n",
      "<class 'list'>\n",
      "<class 'float'>\n"
     ]
    }
   ],
   "source": [
    "#Q2. Given are some following variables containing data:\n",
    "#What will be the data type of the above given variable.\n",
    "var1 = ''\n",
    "var2 = '[ DS , ML , Python]'\n",
    "var3 = [ 'DS' , 'ML' ,'Python' ]\n",
    "var4 = 1.\n",
    "print(type(var1))\n",
    "print(type(var2))\n",
    "print(type(var3))\n",
    "print(type(var4))"
   ]
  },
  {
   "cell_type": "code",
   "execution_count": 17,
   "id": "16567987-bf03-4885-ad7b-c5c7d1f141cc",
   "metadata": {},
   "outputs": [
    {
     "name": "stdout",
     "output_type": "stream",
     "text": [
      "2.0\n",
      "1\n",
      "2\n",
      "16\n"
     ]
    }
   ],
   "source": [
    "#Q3. Explain the use of the following operators using an example:\n",
    "#(i) / - This is a division operator .Divides two number and gives float value. Use to find the quotient.\n",
    "print(6/3)\n",
    "#(ii) % -This is a modulus operator .Use to find the remainder\n",
    "print(7%2)\n",
    "#(iii) // - This is a floor operator.use to performs division and returns the integer part only.\n",
    "print(11//4)\n",
    "#(iv) ** - This is a Exponentiation Operator use to raises a number to the power of another.\n",
    "print(2**4)"
   ]
  },
  {
   "cell_type": "code",
   "execution_count": 4,
   "id": "816d22fa-3a57-4930-8544-2d05e52a9a4e",
   "metadata": {},
   "outputs": [
    {
     "name": "stdout",
     "output_type": "stream",
     "text": [
      "23\n",
      "<class 'int'>\n",
      "43.3\n",
      "<class 'float'>\n",
      "True\n",
      "<class 'bool'>\n",
      "(3+5j)\n",
      "<class 'complex'>\n",
      "Python\n",
      "<class 'str'>\n",
      "65\n",
      "<class 'int'>\n",
      "(34, 5)\n",
      "<class 'tuple'>\n",
      "[56, 'Vikash']\n",
      "<class 'list'>\n",
      "P\n",
      "<class 'str'>\n",
      "89\n",
      "<class 'int'>\n"
     ]
    }
   ],
   "source": [
    "#Q4. Create a list of length 10 of your choice containing multiple types of data. Using for loop print the element and its data type.\n",
    "list1=[23,43.3,True,3+5j,'Python',65,(34,5),[56,\"Vikash\"],'P',89]\n",
    "for item in list1:\n",
    "    print(item)\n",
    "    print(type(item))"
   ]
  },
  {
   "cell_type": "code",
   "execution_count": 2,
   "id": "117a0ce4-84c3-4f7c-be23-009e1dba0703",
   "metadata": {},
   "outputs": [
    {
     "name": "stdout",
     "output_type": "stream",
     "text": [
      "Number is divisible 2  times.\n"
     ]
    }
   ],
   "source": [
    "#Q5. Using a while loop, verify if the number A is purely divisible by number B and if so then how many times it can be divisible.\n",
    "A=20\n",
    "B=2\n",
    "count = 0\n",
    "while A % B == 0:\n",
    "    A = A // B\n",
    "    count += 1\n",
    "print(\"Number is divisible\" ,count,\" times.\")"
   ]
  },
  {
   "cell_type": "code",
   "execution_count": 3,
   "id": "dd20480a-c824-45b2-9db1-747daea3c845",
   "metadata": {},
   "outputs": [
    {
     "name": "stdout",
     "output_type": "stream",
     "text": [
      "34 is not divisible by 3\n",
      "54 is divisible by 3\n",
      "23 is not divisible by 3\n",
      "54 is divisible by 3\n",
      "12 is divisible by 3\n",
      "32 is not divisible by 3\n",
      "30 is divisible by 3\n",
      "90 is divisible by 3\n",
      "60 is divisible by 3\n",
      "45 is divisible by 3\n",
      "23 is not divisible by 3\n",
      "56 is not divisible by 3\n",
      "323 is not divisible by 3\n",
      "65 is not divisible by 3\n",
      "32 is not divisible by 3\n",
      "235 is not divisible by 3\n",
      "76 is not divisible by 3\n",
      "3 is divisible by 3\n",
      "12 is divisible by 3\n",
      "67 is not divisible by 3\n",
      "45 is divisible by 3\n",
      "23 is not divisible by 3\n",
      "23 is not divisible by 3\n",
      "56 is not divisible by 3\n",
      "45 is divisible by 3\n"
     ]
    }
   ],
   "source": [
    "#Q6. Create a list containing 25 int type data. Using for loop and if-else condition print if the element is divisible by 3 or not.\n",
    "list1=[34,54,23,54,12,32,30,90,60,45,23,56,323,65,32,235,76,3,12,67,45,23,23,56,45]\n",
    "for item in list1:\n",
    "    if item%3==0:\n",
    "        print(f\"{item} is divisible by 3\")\n",
    "    else:\n",
    "        print(f\"{item} is not divisible by 3\")"
   ]
  },
  {
   "cell_type": "code",
   "execution_count": 9,
   "id": "d5dcba06-6646-4891-bd2a-7721d9093e4e",
   "metadata": {},
   "outputs": [
    {
     "name": "stdout",
     "output_type": "stream",
     "text": [
      "[434, 5, 45, 23]\n",
      "After changing the list [434, 5, 90, 23]\n"
     ]
    },
    {
     "ename": "TypeError",
     "evalue": "'str' object does not support item assignment",
     "output_type": "error",
     "traceback": [
      "\u001b[1;31m---------------------------------------------------------------------------\u001b[0m",
      "\u001b[1;31mTypeError\u001b[0m                                 Traceback (most recent call last)",
      "Cell \u001b[1;32mIn[9], line 10\u001b[0m\n\u001b[0;32m      8\u001b[0m \u001b[38;5;66;03m#Immutable data types- In this data types there will be no changes after creating the data .\u001b[39;00m\n\u001b[0;32m      9\u001b[0m name\u001b[38;5;241m=\u001b[39m\u001b[38;5;124m\"\u001b[39m\u001b[38;5;124mVikash\u001b[39m\u001b[38;5;124m\"\u001b[39m\n\u001b[1;32m---> 10\u001b[0m \u001b[43mname\u001b[49m\u001b[43m[\u001b[49m\u001b[38;5;241;43m2\u001b[39;49m\u001b[43m]\u001b[49m\u001b[38;5;241m=\u001b[39m\u001b[38;5;124m\"\u001b[39m\u001b[38;5;124mN\u001b[39m\u001b[38;5;124m\"\u001b[39m\n",
      "\u001b[1;31mTypeError\u001b[0m: 'str' object does not support item assignment"
     ]
    }
   ],
   "source": [
    "#Q7. What do you understand about mutable and immutable data types? Give examples for both showing this property.\n",
    "#Mutable data types - This data types can be changed after creating .like data can be added ,deleted.\n",
    "list1=[434,5,45,23]\n",
    "print(list1)\n",
    "list1[2]=90\n",
    "print(f\"After changing the list {list1}\")\n",
    "\n",
    "#Immutable data types- In this data types there will be no changes after creating the data .\n",
    "name=\"Vikash\"\n",
    "name[2]=\"N\""
   ]
  },
  {
   "cell_type": "code",
   "execution_count": null,
   "id": "3b99528f-28dd-4bf0-b8de-eac936369610",
   "metadata": {},
   "outputs": [],
   "source": []
  }
 ],
 "metadata": {
  "kernelspec": {
   "display_name": "Python 3 (ipykernel)",
   "language": "python",
   "name": "python3"
  },
  "language_info": {
   "codemirror_mode": {
    "name": "ipython",
    "version": 3
   },
   "file_extension": ".py",
   "mimetype": "text/x-python",
   "name": "python",
   "nbconvert_exporter": "python",
   "pygments_lexer": "ipython3",
   "version": "3.13.2"
  }
 },
 "nbformat": 4,
 "nbformat_minor": 5
}
